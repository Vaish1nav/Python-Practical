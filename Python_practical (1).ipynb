{
  "nbformat": 4,
  "nbformat_minor": 0,
  "metadata": {
    "colab": {
      "provenance": []
    },
    "kernelspec": {
      "name": "python3",
      "display_name": "Python 3"
    },
    "language_info": {
      "name": "python"
    }
  },
  "cells": [
    {
      "cell_type": "code",
      "execution_count": null,
      "metadata": {
        "id": "N3T6A67ZGms8"
      },
      "outputs": [],
      "source": []
    },
    {
      "cell_type": "markdown",
      "source": [
        "Question 1: What is the difference between multithreading and multiprocessing?\n",
        "\n",
        "Answer:\n",
        "\n",
        "Multithreading involves running multiple threads within the same process, sharing the same memory space. It is useful for I/O-bound tasks but limited by Python’s Global Interpreter Lock (GIL), which prevents true parallel CPU execution.\n",
        "\n",
        "Multiprocessing uses multiple processes, each with its own memory space and interpreter. It allows true parallelism, making it ideal for CPU-bound tasks, though it consumes more memory and has higher inter-process communication overhead."
      ],
      "metadata": {
        "id": "LbUWjN33GpI2"
      }
    },
    {
      "cell_type": "markdown",
      "source": [
        "Question 2: What are the challenges associated with memory management in Python?\n",
        "\n",
        "Answer:\n",
        "\n",
        "-Garbage Collection Overhead: The automatic garbage collector may cause performance lags during cleanup cycles.\n",
        "\n",
        "-Reference Cycles: Objects referencing each other can prevent memory from being freed.\n",
        "\n",
        "-Memory Fragmentation: Frequent allocation/deallocation can fragment memory, leading to inefficiency.\n",
        "\n",
        "-Global Interpreter Lock (GIL): Limits concurrent memory operations across threads.\n",
        "\n",
        "-Large Object Retention: Unreleased or cached objects (like in lists or dictionaries) can cause memory leaks."
      ],
      "metadata": {
        "id": "FQLtpYV0G2Rd"
      }
    },
    {
      "cell_type": "code",
      "source": [
        "'''Question 3: Write a Python program that logs an error message\n",
        "to a log file when a division by zero exception occurs'''\n",
        "\n",
        "\n",
        "import logging\n",
        "\n",
        "# Configure logging\n",
        "logging.basicConfig(filename='error.log', level=logging.ERROR,\n",
        "                    format='%(asctime)s:%(levelname)s:%(message)s')\n",
        "\n",
        "try:\n",
        "    a = int(input(\"Enter numerator: \"))\n",
        "    b = int(input(\"Enter denominator: \"))\n",
        "    result = a / b\n",
        "    print(\"Result:\", result)\n",
        "except ZeroDivisionError as e:\n",
        "    logging.error(\"Division by zero error occurred: %s\", e)\n",
        "    print(\"Error: Division by zero is not allowed.\")\n"
      ],
      "metadata": {
        "colab": {
          "base_uri": "https://localhost:8080/"
        },
        "id": "XWUMenIGHWh8",
        "outputId": "25d8c87b-461e-49e8-8881-4950e057535c"
      },
      "execution_count": 2,
      "outputs": [
        {
          "output_type": "stream",
          "name": "stdout",
          "text": [
            "Enter numerator: 2\n",
            "Enter denominator: 3\n",
            "Result: 0.6666666666666666\n"
          ]
        }
      ]
    },
    {
      "cell_type": "code",
      "source": [
        "'''Question 4 : Write a Python program that reads from one file and writes its content to another file'''\n",
        "\n",
        "# Read from one file and write to another\n",
        "source_file = input(\"Enter source file name: \")\n",
        "destination_file = input(\"Enter destination file name: \")\n",
        "\n",
        "with open(source_file, 'r') as src:\n",
        "    content = src.read()\n",
        "\n",
        "with open(destination_file, 'w') as dest:\n",
        "    dest.write(content)\n",
        "\n",
        "print(\"File copied successfully!\")\n"
      ],
      "metadata": {
        "colab": {
          "base_uri": "https://localhost:8080/",
          "height": 245
        },
        "id": "QF-T_CsqH21_",
        "outputId": "72dac4bf-3cf5-4549-bdbb-29786b78c51c"
      },
      "execution_count": 3,
      "outputs": [
        {
          "name": "stdout",
          "output_type": "stream",
          "text": [
            "Enter source file name: ttre\n",
            "Enter destination file name: jbmm\n"
          ]
        },
        {
          "output_type": "error",
          "ename": "FileNotFoundError",
          "evalue": "[Errno 2] No such file or directory: 'ttre'",
          "traceback": [
            "\u001b[0;31m---------------------------------------------------------------------------\u001b[0m",
            "\u001b[0;31mFileNotFoundError\u001b[0m                         Traceback (most recent call last)",
            "\u001b[0;32m/tmp/ipython-input-1257417078.py\u001b[0m in \u001b[0;36m<cell line: 0>\u001b[0;34m()\u001b[0m\n\u001b[1;32m      5\u001b[0m \u001b[0mdestination_file\u001b[0m \u001b[0;34m=\u001b[0m \u001b[0minput\u001b[0m\u001b[0;34m(\u001b[0m\u001b[0;34m\"Enter destination file name: \"\u001b[0m\u001b[0;34m)\u001b[0m\u001b[0;34m\u001b[0m\u001b[0;34m\u001b[0m\u001b[0m\n\u001b[1;32m      6\u001b[0m \u001b[0;34m\u001b[0m\u001b[0m\n\u001b[0;32m----> 7\u001b[0;31m \u001b[0;32mwith\u001b[0m \u001b[0mopen\u001b[0m\u001b[0;34m(\u001b[0m\u001b[0msource_file\u001b[0m\u001b[0;34m,\u001b[0m \u001b[0;34m'r'\u001b[0m\u001b[0;34m)\u001b[0m \u001b[0;32mas\u001b[0m \u001b[0msrc\u001b[0m\u001b[0;34m:\u001b[0m\u001b[0;34m\u001b[0m\u001b[0;34m\u001b[0m\u001b[0m\n\u001b[0m\u001b[1;32m      8\u001b[0m     \u001b[0mcontent\u001b[0m \u001b[0;34m=\u001b[0m \u001b[0msrc\u001b[0m\u001b[0;34m.\u001b[0m\u001b[0mread\u001b[0m\u001b[0;34m(\u001b[0m\u001b[0;34m)\u001b[0m\u001b[0;34m\u001b[0m\u001b[0;34m\u001b[0m\u001b[0m\n\u001b[1;32m      9\u001b[0m \u001b[0;34m\u001b[0m\u001b[0m\n",
            "\u001b[0;31mFileNotFoundError\u001b[0m: [Errno 2] No such file or directory: 'ttre'"
          ]
        }
      ]
    },
    {
      "cell_type": "code",
      "source": [
        "'''Question 5 :Write a program that handles both IndexError and KeyError using a try-except block'''\n",
        "\n",
        "\n",
        "try:\n",
        "    lst = [10, 20, 30]\n",
        "    print(lst[5])  # IndexError\n",
        "    dct = {\"a\": 1, \"b\": 2}\n",
        "    print(dct[\"c\"])  # KeyError\n",
        "except IndexError:\n",
        "    print(\"Error: Index out of range.\")\n",
        "except KeyError:\n",
        "    print(\"Error: Key not found in dictionary.\")\n",
        "\n"
      ],
      "metadata": {
        "id": "86kM98YgIN0r"
      },
      "execution_count": null,
      "outputs": []
    },
    {
      "cell_type": "markdown",
      "source": [
        "Question 6 :What are the differences between NumPy arrays and Python lists?\n",
        "\n",
        "1 Data Type:\n",
        "\n",
        "NumPy arrays can store only one data type (homogeneous elements).\n",
        "\n",
        "Python lists can store different data types (heterogeneous elements).\n",
        "\n",
        "2 Performance:\n",
        "\n",
        "NumPy arrays are faster and more efficient because they use optimized C code.\n",
        "\n",
        "Python lists are slower as they are implemented in pure Python.\n",
        "\n",
        "3 Memory Usage:\n",
        "\n",
        "NumPy arrays use less memory due to compact storage.\n",
        "\n",
        "Python lists consume more memory as each element stores additional object information.\n",
        "\n",
        "4 Mathematical Operations:\n",
        "\n",
        "NumPy supports vectorized operations (you can add, multiply, etc. without loops).\n",
        "\n",
        "Python lists require explicit loops for such operations.\n",
        "\n",
        "5 Functionality:\n",
        "\n",
        "NumPy provides powerful functions for linear algebra, statistics, and data manipulation.\n",
        "\n",
        "Python lists have limited built-in functionality.\n",
        "\n",
        "6 Dimensionality:\n",
        "\n",
        "NumPy can handle multi-dimensional arrays (matrices, tensors) easily.\n",
        "\n",
        "Python lists are mainly one-dimensional, though you can nest them manually.\n",
        "\n",
        "7 Broadcasting:\n",
        "\n",
        "NumPy arrays support broadcasting, allowing operations between arrays of different shapes.\n",
        "\n",
        "Python lists do not support broadcasting.\n",
        "\n",
        "8 Type Checking:\n",
        "\n",
        "NumPy arrays require all elements to be of the same type, ensuring consistency.\n",
        "\n",
        "Python lists allow mixed types, which can cause inconsistencies in calculations."
      ],
      "metadata": {
        "id": "kOYm6FTvI4c9"
      }
    },
    {
      "cell_type": "markdown",
      "source": [
        "Question 7 :Explain the difference between apply() and map() in Pandas.\n",
        "\n",
        "-Scope of Use:\n",
        "\n",
        "map() is used only with Pandas Series (one-dimensional data).\n",
        "\n",
        "apply() can be used with both Series and DataFrames (one or two-dimensional data).\n",
        "\n",
        "-Function Application:\n",
        "\n",
        "map() applies a function element-wise to each value in a Series.\n",
        "\n",
        "apply() applies a function along an axis (rows or columns) in a DataFrame.\n",
        "\n",
        "-Axis Parameter:\n",
        "\n",
        "map() has no axis parameter — it always works element-wise.\n",
        "\n",
        "apply() allows specifying axis=0 (for columns) or axis=1 (for rows).\n",
        "\n",
        "-Return Type:\n",
        "\n",
        "map() returns a new Series after applying the function.\n",
        "\n",
        "apply() can return a Series, DataFrame, or scalar, depending on the function.\n",
        "\n",
        "-Typical Use Cases:\n",
        "\n",
        "Use map() for simple transformations or element-wise operations on a single column.\n",
        "\n",
        "Use apply() for complex row/column-wise computations or when working with entire DataFrames."
      ],
      "metadata": {
        "id": "f1cVZi3ZJb_s"
      }
    },
    {
      "cell_type": "code",
      "source": [
        "#Question 8 :Create a histogram using Seaborn to visualize a distribution\n",
        "\n",
        "import seaborn as sns\n",
        "import matplotlib.pyplot as plt\n",
        "\n",
        "# Sample data\n",
        "data = [5, 10, 10, 15, 20, 20, 25, 30, 35, 40]\n",
        "\n",
        "# Create histogram\n",
        "sns.histplot(data, bins=8, kde=True, color='blue')\n",
        "plt.title(\"Distribution Histogram\")\n",
        "plt.xlabel(\"Values\")\n",
        "plt.ylabel(\"Frequency\")\n",
        "plt.show()\n"
      ],
      "metadata": {
        "colab": {
          "base_uri": "https://localhost:8080/",
          "height": 472
        },
        "id": "8cPHMrAeKC4W",
        "outputId": "6f2d0126-3f60-41b8-bcaa-6e946d77f6e2"
      },
      "execution_count": 4,
      "outputs": [
        {
          "output_type": "display_data",
          "data": {
            "text/plain": [
              "<Figure size 640x480 with 1 Axes>"
            ],
            "image/png": "[encoded data removed]"
          },
          "metadata": {}
        }
      ]
    },
    {
      "cell_type": "code",
      "source": [
        "#question 9 : Use Pandas to load a CSV file and display its first 5 rows\n",
        "\n",
        "import pandas as pd\n",
        "\n",
        "file_name = input(\"Enter CSV file name: \")\n",
        "df = pd.read_csv(file_name)\n",
        "\n",
        "print(\"First 5 rows of the CSV file:\")\n",
        "print(df.head())\n"
      ],
      "metadata": {
        "id": "4Z_9fBZCKO-z"
      },
      "execution_count": null,
      "outputs": []
    },
    {
      "cell_type": "code",
      "source": [
        "#Question 10: Calculate the correlation matrix using Seaborn and visualize it with a heatmap\n",
        "\n",
        "import seaborn as sns\n",
        "import pandas as pd\n",
        "import matplotlib.pyplot as plt\n",
        "\n",
        "# Load data\n",
        "df = pd.read_csv('data.csv')\n",
        "\n",
        "# Compute correlation matrix\n",
        "corr = df.corr()\n",
        "\n",
        "# Plot heatmap\n",
        "sns.heatmap(corr, annot=True, cmap='coolwarm')\n",
        "plt.title(\"Correlation Matrix Heatmap\")\n",
        "plt.show()\n"
      ],
      "metadata": {
        "id": "HvXcRI1TLWaI"
      },
      "execution_count": null,
      "outputs": []
    }
  ]
}